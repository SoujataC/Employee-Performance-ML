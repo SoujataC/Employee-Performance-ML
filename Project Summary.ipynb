{
 "cells": [
  {
   "cell_type": "markdown",
   "metadata": {},
   "source": [
    "# Employee Performance Analysis -  Future Inc"
   ]
  },
  {
   "cell_type": "raw",
   "metadata": {},
   "source": [
    "Candidate Name      : Soujata Chakraborty\n",
    "E-Mail              : chakraborty.soujata@gmail.com \n",
    "REP Name            : DataMites™ Solutions Pvt Ltd\n",
    "Assesment ID        : E10901-PR2-V18\n",
    "Module              : Certified Data Scientist - Project\n",
    "Exam Format         : Open Project- Project Submission\n",
    "Registered Trainer  : Ashok Kumar A\n",
    "Submission Deadline Date : 18-January-2018  "
   ]
  },
  {
   "cell_type": "markdown",
   "metadata": {},
   "source": [
    "## Project Summary"
   ]
  },
  {
   "cell_type": "raw",
   "metadata": {},
   "source": [
    "The analysis of Future Inc. Employee Performance DataSet was given to us as the Data Science Project. The main goal of the project is to find the performance rating of the working employees of the organisation. Each of the parameters like sales, HR, Gender, Department etc are analysed and compared to one another to get a proper understanding of the Employee Performances.\n",
    "\n",
    "Goals of the Project as follows:-\n",
    "\n",
    "1.Department wise performances\n",
    "2.Top 3 Important Factors effecting employee performance\n",
    "3.A trained model which can predict the employee performance based on factors as inputs. This will be used to hire employees\n",
    "4.Recommendations to improve the employee performance based on insights from analysis.\n",
    "\n",
    "Given data of employees has the 1200 records spread across 28 different categories and its well structured  to perform machine learning models. The Shape of the data is 1200x28. These 28 categories are classified into quantitative and qualitative with 16 qualitative categories & 11 quantitative. Only alphanumerical data is employee ID.  The analysis of the project was done on distribution analysis, correlation analysis and department wide analysis to meet the project goal.\n",
    "\n",
    "Random Forest Classifier is used as the Machine Learning Model in this project which predicted 95.3% accuracy. The numerical features are the most relevant in the model according to correlation technique.\n",
    "\n",
    "The most important feature is to find the parameters effecting the performance rating of the employees. Machine Learning model were used to find it, which includes Pre-processing the data and converting the strings into numerical data. ML doesn’t support strings as it is based on Numerical data. The overall project was performed and goals were achieved by using the machine learning model and visualization techniques."
   ]
  },
  {
   "cell_type": "markdown",
   "metadata": {},
   "source": [
    "### 1.Requirement"
   ]
  },
  {
   "cell_type": "markdown",
   "metadata": {},
   "source": [
    "The data was given by DataMites for this project and the collected source is DataMites. It’s based on Future Inc. It is one of the leading data analytics and automation solutions provider. This project was performed in Jupyter notebook with python platform."
   ]
  },
  {
   "cell_type": "markdown",
   "metadata": {},
   "source": [
    "### 2.Analysis"
   ]
  },
  {
   "cell_type": "markdown",
   "metadata": {},
   "source": [
    "The categorical features played a bigger role in the analysis as it helped to form and tell the relation between dependent and independent variables. Pandas module helped to describe the datasets by performing some data exploratory queries and answering them in our project. The categories present in the data are divided into numerical and categorical data."
   ]
  },
  {
   "cell_type": "markdown",
   "metadata": {},
   "source": [
    "#### i) Data Cleaning & Checking"
   ]
  },
  {
   "cell_type": "markdown",
   "metadata": {},
   "source": [
    "The Data cleaning is the part of the Data science project because the missing , damaged data can reduce the accuracy of the model and will led to big disaster. Thus Data Cleaning is a major part of Data Science Project. If the given dataset is already structured and cleaned, data cleaning is not required. In this project, we saw that the data given is well structured and there is no missing data."
   ]
  },
  {
   "cell_type": "markdown",
   "metadata": {},
   "source": [
    "#### ii) Categorical Features"
   ]
  },
  {
   "cell_type": "raw",
   "metadata": {},
   "source": [
    "The categorical features are the values nominal, ordinal, interval, or ratio based. They are as follows,\n",
    "->Gender\n",
    "->EducationBackground\n",
    "->MaritalStatus\n",
    "->EmpDepartment\n",
    "->EmpJobRole\n",
    "->BusinessTravelFrequency\n",
    "->EmpEducationLevel\n",
    "->EmpEnvironmentSatisfaction\n",
    "->EmpJobInvolvement\n",
    "->EmpJobLevel\n",
    "->EmpJobSatisfaction\n",
    "->OverTime\n",
    "->EmpRelationshipSatisfaction\n",
    "->EmpWorkLifeBalance\n",
    "->Attrition\n",
    "->PerformanceRating\n",
    "\n",
    "From the analysis we determined\n",
    "->40 % Female employees and 60% Male employees works in this company\n",
    "->19 unique Job roles are offered by this company\n",
    "->Job satisfaction level is high\n",
    "->11% employees achieved Level – 4 performance rating \n",
    "->30% employees working overtime.\n",
    "->Employees are from 6 unique educational backgrounds."
   ]
  },
  {
   "cell_type": "markdown",
   "metadata": {},
   "source": [
    "#### iii) Numerical Features"
   ]
  },
  {
   "cell_type": "markdown",
   "metadata": {},
   "source": [
    "The discrete, continuous or timeseries based values are the numerical features which differs in different samples. Numerical Features are the representative of the training dataset . It shows and helps to determine the actual problem in the domain. "
   ]
  },
  {
   "cell_type": "raw",
   "metadata": {},
   "source": [
    "The features are:\n",
    "->Age\n",
    "->DistanceFromHome\n",
    "->EmpHourlyRate\n",
    "->NumCompaniesWorked\n",
    "->EmpLastSalaryHikePercent\n",
    "->TotalWorkExperienceInYears\n",
    "->TrainingTimesLastYear\n",
    "->ExperienceYearsAtThisCompany\n",
    "->ExperienceYearsInCurrentRole\n",
    "->YearsSinceLastPromotion\n",
    "->YearsWithCurrManager\n",
    "\n",
    "From the analysis we determined\n",
    "->Age of the employees are between 18-60 and most of them fall in 30-40 age count bracket. \n",
    "->Few Employees has experience of approx. 8 companies. Most of them got experience in 2 companies before joining here.\n",
    "->Distance can be measured in Km or Mile. The distance from home to office is distributed from 0-30units and most of them are in 0-5units range.\n",
    "->The hourly rate range is 65 - 95 for majority employees and most of the employees worked for around 5yrs in this company and even got 11-15% salary hike"
   ]
  },
  {
   "cell_type": "markdown",
   "metadata": {},
   "source": [
    "#### iv)Alphanumeric Features"
   ]
  },
  {
   "cell_type": "markdown",
   "metadata": {},
   "source": [
    "It is a mix of both Numerical and alphabetical data within same type feature. These are candidates for correcting goal. Employee ID number is a mix of numeric and alphanumeric data types."
   ]
  },
  {
   "cell_type": "markdown",
   "metadata": {},
   "source": [
    "#### v)Analysis by Visualization"
   ]
  },
  {
   "cell_type": "markdown",
   "metadata": {},
   "source": [
    "We analysed department wise performances by using visualization. We co-relate the values like age, gender, experience level, no of employess and compared each of them with the performance rating based on the department and plotted graphs. "
   ]
  },
  {
   "cell_type": "markdown",
   "metadata": {},
   "source": [
    "#### vi) Machine Learning Model"
   ]
  },
  {
   "cell_type": "markdown",
   "metadata": {},
   "source": [
    "The machine learning models used in this project is Random Forest classifier and are best for classification and labelled data.\n",
    "\n",
    "Random forests is a supervised learning algorithm can be grouped under the category of ensemble models.Random forests creates decision trees on randomly selected data samples, gets prediction from each tree and selects the best solution by means of voting. It also provides a pretty good indicator of the feature importance. \n",
    "\n",
    "Random Forest is used over others because it does not suffer from the overfitting problem.It can also handle missing values with ease\n",
    "\n",
    "The train - test data are divided and fitted properly into the model. We achieved an accuracy rate of 95.33%"
   ]
  },
  {
   "cell_type": "markdown",
   "metadata": {},
   "source": [
    "## Summary "
   ]
  },
  {
   "cell_type": "markdown",
   "metadata": {},
   "source": [
    "The ML model has been fitted and predicted with the accuracy score. The results from the analysis are:-"
   ]
  },
  {
   "cell_type": "markdown",
   "metadata": {},
   "source": [
    "#### Goal 1: Department wise performances"
   ]
  },
  {
   "cell_type": "markdown",
   "metadata": {},
   "source": [
    "In department wise performance, we analysed data of each department present. We sliced the data frame has according to department wise. In Employee department there are six departments available. The performance analysis by the department as follows:-"
   ]
  },
  {
   "cell_type": "markdown",
   "metadata": {},
   "source": [
    "->Sales: Level 3 has the highest Performace rating in the sales department. Male performance rating is little on higher side when compared to female. Age bracket of majority sales executives is between 30-40yrs. Total work experience doesn’t matter and is not considered.\n",
    "\n",
    "->Human Resources: Majority of the employees lies in level 3 performance bracket. Female HR are really doing well when compared to men and the numbers are reflected in the graph. Older people are performing low. Total work experience doesn’t matter and is not considered.\n",
    "\n",
    "->Development: Majority of the employees lies in level 3 performance bracket.. Employees of all age are performing at the level of 3 only. The gender-based performance is approx. same and that’s incredible. Total work experience doesn’t matter and is not considered.\n",
    "\n",
    "->Data Science: This department has level 3 as the  highest average performance. Nearly negligible level 2 performers and it is seen only for this Department. When compared to other departments, overall performance is higher in this department and age is not the important factor. The gender-based performance is approx. same. Total work experience doesn’t matter and is not considered. As always, in-depth knowledge of the concepts and the power to grab things and apply is considered in Data Science.\n",
    "\n",
    "->Research & Development: Employees of every age bracket is present in every level of performance. The R&D has good female employees in their performance. It contains employees with various experience level.\n",
    "\n",
    "->Finance: The performance of finance department is decreasing when age increases. Male employees are doing good. Experience factor of this department is inversely proportional to the performance level.\n"
   ]
  },
  {
   "cell_type": "markdown",
   "metadata": {},
   "source": [
    "#### Goal 2: Top 3 important factors effecting the employee performance"
   ]
  },
  {
   "cell_type": "markdown",
   "metadata": {},
   "source": [
    "The Random Forest classifier in Sklearn  has a very convenient attribute which is used to identify the important features in our dataset. It shows which data is given the upmost importance using ML .The top 3 important features affecting the performance rating have been ordered with their importance levels. They are :-"
   ]
  },
  {
   "cell_type": "markdown",
   "metadata": {},
   "source": [
    "1. Employee Salary Hike Percentage - > 23.93%\n",
    "2. Employment Environment Satisfaction -> 22.70%\n",
    "3. Years Since last Promotion -> 13.4%"
   ]
  },
  {
   "cell_type": "markdown",
   "metadata": {},
   "source": [
    "#### Goal 3: A Trained model which can predict the employee performance based on factors as inputs. This will be used to hire employees"
   ]
  },
  {
   "cell_type": "markdown",
   "metadata": {},
   "source": [
    "The trained model is created using the machine learning algorithm. The accuracy score of the model is\n",
    "\n",
    "->Random Forest classifier: 95.33% accuracy"
   ]
  },
  {
   "cell_type": "markdown",
   "metadata": {},
   "source": [
    "#### Goal 4: Recommendations to improve the employee performance based on insights from analysis"
   ]
  },
  {
   "cell_type": "raw",
   "metadata": {},
   "source": [
    "->Salary hike gives a boost to the employees and they tries to give their best to the organization.\n",
    "\n",
    "->Promotion will bring new confidence in Junior as well as experienced employees thus they will change themselves and improve their inner qualities.\n",
    "\n",
    "->HR should consider the female employees compared to men. As to bring the equality in the work place.\n",
    "\n",
    "->Work-life balance of the employees should be taken care. Overtime should get reduced. It affects the performance rating.\n",
    "\n",
    "->Overall employee satisfaction will increase the employee performance. Company need to focus on that.\n",
    "\n",
    "->The development and data science department has an overall higher performance comparing to rest."
   ]
  },
  {
   "cell_type": "code",
   "execution_count": null,
   "metadata": {},
   "outputs": [],
   "source": []
  }
 ],
 "metadata": {
  "kernelspec": {
   "display_name": "Python 3",
   "language": "python",
   "name": "python3"
  },
  "language_info": {
   "codemirror_mode": {
    "name": "ipython",
    "version": 3
   },
   "file_extension": ".py",
   "mimetype": "text/x-python",
   "name": "python",
   "nbconvert_exporter": "python",
   "pygments_lexer": "ipython3",
   "version": "3.7.1"
  }
 },
 "nbformat": 4,
 "nbformat_minor": 2
}
