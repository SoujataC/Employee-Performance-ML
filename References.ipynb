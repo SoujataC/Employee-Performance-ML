{
 "cells": [
  {
   "cell_type": "markdown",
   "metadata": {},
   "source": [
    "# Reference"
   ]
  },
  {
   "cell_type": "markdown",
   "metadata": {},
   "source": [
    "1. https://www.datacamp.com/community/tutorials/random-forests-classifier-python\n",
    "2. https://scikit-learn.org/stable/index.html\n",
    "3. https://matplotlib.org/api/_as_gen/matplotlib.pyplot.boxplot.html\n",
    "4. https://seaborn.pydata.org/generated/seaborn.countplot.html\n",
    "5. https://pythonspot.com/matplotlib-bar-chart/\n",
    "6. https://towardsdatascience.com/train-test-split-and-cross-validation-in-python-80b61beca4b6\n",
    "7. https://jupyter.org/documentation"
   ]
  },
  {
   "cell_type": "code",
   "execution_count": null,
   "metadata": {},
   "outputs": [],
   "source": []
  }
 ],
 "metadata": {
  "kernelspec": {
   "display_name": "Python 3",
   "language": "python",
   "name": "python3"
  },
  "language_info": {
   "codemirror_mode": {
    "name": "ipython",
    "version": 3
   },
   "file_extension": ".py",
   "mimetype": "text/x-python",
   "name": "python",
   "nbconvert_exporter": "python",
   "pygments_lexer": "ipython3",
   "version": "3.7.1"
  }
 },
 "nbformat": 4,
 "nbformat_minor": 2
}
